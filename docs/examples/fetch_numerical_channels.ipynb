{
 "cells": [
  {
   "cell_type": "markdown",
   "metadata": {},
   "source": [
    "# Get numerical channels from selected experiment\n",
    "## Instantiate a session\n",
    "In order to fetch data from Neptune you need to get your `api_token` first.\n",
    "To get it run:\n",
    "    \n",
    "```bash\n",
    "neptune account api-token get\n",
    "```\n",
    "\n",
    "Now you can either pass it directly to a `Session` object or\n",
    "you can put it in the `NEPTUNE_API_TOKEN` environment variable.\n",
    "\n",
    "```bash\n",
    "export NEPTUNE_API_TOKEN=YOUR_API_TOKEN\n",
    "```\n",
    "\n",
    "Either way you can start a session now."
   ]
  },
  {
   "cell_type": "code",
   "execution_count": 1,
   "metadata": {},
   "outputs": [],
   "source": [
    "from neptunelib.session import Session\n",
    "# session=Session(api_token=YOUR_API_TOKEN)\n",
    "session = Session()"
   ]
  },
  {
   "cell_type": "markdown",
   "metadata": {},
   "source": [
    "## Fetch project\n",
    "You need to choose the project on which you want to work on.\n",
    "Let's take the `neptune-ml/Salt-Detecion` project from the `neptune-ml` organization.\n",
    "\n",
    "Use `.get_projects(ORGANIZATION)[ORGANIZATION/PROJECT_NAME]` method which takes organization as input and outputs a dictionary."
   ]
  },
  {
   "cell_type": "code",
   "execution_count": 3,
   "metadata": {},
   "outputs": [],
   "source": [
    "project = session.get_projects('neptune-ml')['neptune-ml/Salt-Detection']"
   ]
  },
  {
   "cell_type": "markdown",
   "metadata": {},
   "source": [
    "## Fetch experiment\n",
    "Now you can fetch an experiment for which you want to extract numerical channels.\n",
    "Use `.get_experiments(*kwargs)` to do so.\n",
    "For example lets fetch 4 experiments by specifying their ids.\n",
    "\n",
    "**Note**\n",
    "\n",
    "There are other options to select experiments such as `tags` or `state`. You can read about them in the user guide."
   ]
  },
  {
   "cell_type": "code",
   "execution_count": 4,
   "metadata": {},
   "outputs": [
    {
     "data": {
      "text/plain": [
       "'SAL-2342'"
      ]
     },
     "execution_count": 4,
     "metadata": {},
     "output_type": "execute_result"
    }
   ],
   "source": [
    "experiments = project.get_experiments(id=['SAL-2342','SAL-204','SAL-240','SAL-241'])\n",
    "experiment = experiments[3]\n",
    "experiment.id"
   ]
  },
  {
   "cell_type": "markdown",
   "metadata": {},
   "source": [
    "## Fetch numerical channels\n",
    "You can now select the numerical channels and fetch that data to your machine."
   ]
  },
  {
   "cell_type": "code",
   "execution_count": 8,
   "metadata": {},
   "outputs": [
    {
     "data": {
      "text/html": [
       "<div>\n",
       "<style scoped>\n",
       "    .dataframe tbody tr th:only-of-type {\n",
       "        vertical-align: middle;\n",
       "    }\n",
       "\n",
       "    .dataframe tbody tr th {\n",
       "        vertical-align: top;\n",
       "    }\n",
       "\n",
       "    .dataframe thead th {\n",
       "        text-align: right;\n",
       "    }\n",
       "</style>\n",
       "<table border=\"1\" class=\"dataframe\">\n",
       "  <thead>\n",
       "    <tr style=\"text-align: right;\">\n",
       "      <th></th>\n",
       "      <th>x</th>\n",
       "      <th>network_5 batch sum loss</th>\n",
       "      <th>network_1 batch sum loss</th>\n",
       "    </tr>\n",
       "  </thead>\n",
       "  <tbody>\n",
       "    <tr>\n",
       "      <th>0</th>\n",
       "      <td>0.0</td>\n",
       "      <td>1.030027</td>\n",
       "      <td>1.059952</td>\n",
       "    </tr>\n",
       "    <tr>\n",
       "      <th>1</th>\n",
       "      <td>1.0</td>\n",
       "      <td>1.000721</td>\n",
       "      <td>1.025355</td>\n",
       "    </tr>\n",
       "    <tr>\n",
       "      <th>2</th>\n",
       "      <td>2.0</td>\n",
       "      <td>1.014683</td>\n",
       "      <td>0.959737</td>\n",
       "    </tr>\n",
       "    <tr>\n",
       "      <th>3</th>\n",
       "      <td>3.0</td>\n",
       "      <td>0.966237</td>\n",
       "      <td>0.930245</td>\n",
       "    </tr>\n",
       "    <tr>\n",
       "      <th>4</th>\n",
       "      <td>4.0</td>\n",
       "      <td>0.945781</td>\n",
       "      <td>0.913751</td>\n",
       "    </tr>\n",
       "  </tbody>\n",
       "</table>\n",
       "</div>"
      ],
      "text/plain": [
       "     x  network_5 batch sum loss  network_1 batch sum loss\n",
       "0  0.0                  1.030027                  1.059952\n",
       "1  1.0                  1.000721                  1.025355\n",
       "2  2.0                  1.014683                  0.959737\n",
       "3  3.0                  0.966237                  0.930245\n",
       "4  4.0                  0.945781                  0.913751"
      ]
     },
     "execution_count": 8,
     "metadata": {},
     "output_type": "execute_result"
    }
   ],
   "source": [
    "channel_df = experiment.get_numeric_channels_values('network_1 batch sum loss', 'network_5 batch sum loss')\n",
    "channel_df.head()"
   ]
  },
  {
   "cell_type": "code",
   "execution_count": null,
   "metadata": {},
   "outputs": [],
   "source": []
  }
 ],
 "metadata": {
  "kernelspec": {
   "display_name": "neptunelib-dev",
   "language": "python",
   "name": "neptunelib-dev"
  },
  "language_info": {
   "codemirror_mode": {
    "name": "ipython",
    "version": 3
   },
   "file_extension": ".py",
   "mimetype": "text/x-python",
   "name": "python",
   "nbconvert_exporter": "python",
   "pygments_lexer": "ipython3",
   "version": "3.6.8"
  }
 },
 "nbformat": 4,
 "nbformat_minor": 2
}
