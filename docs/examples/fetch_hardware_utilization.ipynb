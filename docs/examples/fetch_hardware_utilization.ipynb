{
 "cells": [
  {
   "cell_type": "markdown",
   "metadata": {},
   "source": [
    "# Get hardware utilization from selected experiment\n",
    "## Instantiate a session\n",
    "In order to fetch data from Neptune you need to get your `api_token` first.\n",
    "To get it run:\n",
    "    \n",
    "```bash\n",
    "neptune account api-token get\n",
    "```\n",
    "\n",
    "Now you can either pass it directly to a `Session` object or\n",
    "you can put it in the `NEPTUNE_API_TOKEN` environment variable.\n",
    "\n",
    "```bash\n",
    "export NEPTUNE_API_TOKEN=YOUR_API_TOKEN\n",
    "```\n",
    "\n",
    "Either way you can start a session now."
   ]
  },
  {
   "cell_type": "code",
   "execution_count": 1,
   "metadata": {},
   "outputs": [],
   "source": [
    "from neptunelib.session import Session\n",
    "# session=Session(api_token=YOUR_API_TOKEN)\n",
    "session = Session()"
   ]
  },
  {
   "cell_type": "markdown",
   "metadata": {},
   "source": [
    "## Fetch project\n",
    "You need to choose the project on which you want to work on.\n",
    "Let's take the `neptune-ml/Salt-Detecion` project from the `neptune-ml` organization.\n",
    "\n",
    "Use `.get_projects(ORGANIZATION)[ORGANIZATION/PROJECT_NAME]` method which takes organization as input and outputs a dictionary."
   ]
  },
  {
   "cell_type": "code",
   "execution_count": 2,
   "metadata": {},
   "outputs": [],
   "source": [
    "project = session.get_projects('neptune-ml')['neptune-ml/Salt-Detection']"
   ]
  },
  {
   "cell_type": "markdown",
   "metadata": {},
   "source": [
    "## Fetch experiment\n",
    "Now you can fetch an experiment for which you want to extract numerical channels.\n",
    "Use `.get_experiments(*kwargs)` to do so.\n",
    "For example lets fetch 4 experiments by specifying their ids.\n",
    "\n",
    "**Note**\n",
    "\n",
    "There are other options to select experiments such as `tags` or `state`. You can read about them in the user guide."
   ]
  },
  {
   "cell_type": "code",
   "execution_count": 3,
   "metadata": {},
   "outputs": [
    {
     "data": {
      "text/plain": [
       "'SAL-2342'"
      ]
     },
     "execution_count": 3,
     "metadata": {},
     "output_type": "execute_result"
    }
   ],
   "source": [
    "experiments = project.get_experiments(id=['SAL-2342','SAL-204','SAL-240','SAL-241'])\n",
    "experiment = experiments[3]\n",
    "experiment.id"
   ]
  },
  {
   "cell_type": "markdown",
   "metadata": {},
   "source": [
    "## Fetch hardware utilization\n",
    "You can now fetch your `memory/gpu/cpu` utilization using `.get_hardware_utilization()` method."
   ]
  },
  {
   "cell_type": "code",
   "execution_count": 5,
   "metadata": {},
   "outputs": [
    {
     "data": {
      "text/html": [
       "<div>\n",
       "<style scoped>\n",
       "    .dataframe tbody tr th:only-of-type {\n",
       "        vertical-align: middle;\n",
       "    }\n",
       "\n",
       "    .dataframe tbody tr th {\n",
       "        vertical-align: top;\n",
       "    }\n",
       "\n",
       "    .dataframe thead th {\n",
       "        text-align: right;\n",
       "    }\n",
       "</style>\n",
       "<table border=\"1\" class=\"dataframe\">\n",
       "  <thead>\n",
       "    <tr style=\"text-align: right;\">\n",
       "      <th></th>\n",
       "      <th>x_cpu</th>\n",
       "      <th>y_cpu</th>\n",
       "      <th>x_ram</th>\n",
       "      <th>y_ram</th>\n",
       "      <th>x_gpu_util_3</th>\n",
       "      <th>y_gpu_util_3</th>\n",
       "      <th>x_gpu_ram_3</th>\n",
       "      <th>y_gpu_ram_3</th>\n",
       "    </tr>\n",
       "  </thead>\n",
       "  <tbody>\n",
       "    <tr>\n",
       "      <th>0</th>\n",
       "      <td>420.0</td>\n",
       "      <td>99.8</td>\n",
       "      <td>420.0</td>\n",
       "      <td>12.367268</td>\n",
       "      <td>420.0</td>\n",
       "      <td>0.0</td>\n",
       "      <td>420.0</td>\n",
       "      <td>2.017578</td>\n",
       "    </tr>\n",
       "    <tr>\n",
       "      <th>1</th>\n",
       "      <td>3423.0</td>\n",
       "      <td>99.9</td>\n",
       "      <td>3423.0</td>\n",
       "      <td>12.438145</td>\n",
       "      <td>3423.0</td>\n",
       "      <td>0.0</td>\n",
       "      <td>3423.0</td>\n",
       "      <td>2.017578</td>\n",
       "    </tr>\n",
       "    <tr>\n",
       "      <th>2</th>\n",
       "      <td>6423.0</td>\n",
       "      <td>99.8</td>\n",
       "      <td>6423.0</td>\n",
       "      <td>12.590366</td>\n",
       "      <td>6423.0</td>\n",
       "      <td>29.0</td>\n",
       "      <td>6423.0</td>\n",
       "      <td>2.017578</td>\n",
       "    </tr>\n",
       "    <tr>\n",
       "      <th>3</th>\n",
       "      <td>9426.0</td>\n",
       "      <td>99.9</td>\n",
       "      <td>9426.0</td>\n",
       "      <td>12.979595</td>\n",
       "      <td>9426.0</td>\n",
       "      <td>15.0</td>\n",
       "      <td>9426.0</td>\n",
       "      <td>2.017578</td>\n",
       "    </tr>\n",
       "    <tr>\n",
       "      <th>4</th>\n",
       "      <td>12427.0</td>\n",
       "      <td>99.9</td>\n",
       "      <td>12427.0</td>\n",
       "      <td>13.390812</td>\n",
       "      <td>12427.0</td>\n",
       "      <td>2.0</td>\n",
       "      <td>12427.0</td>\n",
       "      <td>2.182617</td>\n",
       "    </tr>\n",
       "  </tbody>\n",
       "</table>\n",
       "</div>"
      ],
      "text/plain": [
       "     x_cpu  y_cpu    x_ram      y_ram  x_gpu_util_3  y_gpu_util_3  \\\n",
       "0    420.0   99.8    420.0  12.367268         420.0           0.0   \n",
       "1   3423.0   99.9   3423.0  12.438145        3423.0           0.0   \n",
       "2   6423.0   99.8   6423.0  12.590366        6423.0          29.0   \n",
       "3   9426.0   99.9   9426.0  12.979595        9426.0          15.0   \n",
       "4  12427.0   99.9  12427.0  13.390812       12427.0           2.0   \n",
       "\n",
       "   x_gpu_ram_3  y_gpu_ram_3  \n",
       "0        420.0     2.017578  \n",
       "1       3423.0     2.017578  \n",
       "2       6423.0     2.017578  \n",
       "3       9426.0     2.017578  \n",
       "4      12427.0     2.182617  "
      ]
     },
     "execution_count": 5,
     "metadata": {},
     "output_type": "execute_result"
    }
   ],
   "source": [
    "hardware_df = experiment.get_hardware_utilization()\n",
    "hardware_df.head()"
   ]
  },
  {
   "cell_type": "code",
   "execution_count": null,
   "metadata": {},
   "outputs": [],
   "source": []
  }
 ],
 "metadata": {
  "kernelspec": {
   "display_name": "neptunelib-dev",
   "language": "python",
   "name": "neptunelib-dev"
  },
  "language_info": {
   "codemirror_mode": {
    "name": "ipython",
    "version": 3
   },
   "file_extension": ".py",
   "mimetype": "text/x-python",
   "name": "python",
   "nbconvert_exporter": "python",
   "pygments_lexer": "ipython3",
   "version": "3.6.8"
  }
 },
 "nbformat": 4,
 "nbformat_minor": 2
}
